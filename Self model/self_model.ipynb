{
  "nbformat": 4,
  "nbformat_minor": 0,
  "metadata": {
    "colab": {
      "name": "Untitled17.ipynb",
      "provenance": []
    },
    "kernelspec": {
      "name": "python3",
      "display_name": "Python 3"
    },
    "accelerator": "GPU"
  },
  "cells": [
    {
      "cell_type": "code",
      "metadata": {
        "id": "FAxpvFFkgWtS",
        "colab_type": "code",
        "outputId": "9a99aa8f-6fe8-4bcf-f9fb-a5499a8bb141",
        "colab": {
          "base_uri": "https://localhost:8080/",
          "height": 34
        }
      },
      "source": [
        "from keras import models\n",
        "from keras import layers\n",
        "from keras import optimizers\n",
        "from keras.layers import Conv2D, MaxPooling2D, Dense, Flatten\n"
      ],
      "execution_count": 1,
      "outputs": [
        {
          "output_type": "stream",
          "text": [
            "Using TensorFlow backend.\n"
          ],
          "name": "stderr"
        }
      ]
    },
    {
      "cell_type": "code",
      "metadata": {
        "id": "CzkDfcMKjbTj",
        "colab_type": "code",
        "colab": {}
      },
      "source": [
        ""
      ],
      "execution_count": 0,
      "outputs": []
    },
    {
      "cell_type": "code",
      "metadata": {
        "id": "dw92IzA5pX-j",
        "colab_type": "code",
        "outputId": "ef8ade29-12a2-4418-bca6-4bd7db2d4d77",
        "colab": {
          "base_uri": "https://localhost:8080/",
          "height": 70
        }
      },
      "source": [
        "import numpy as np\n",
        "import tensorflow as tf\n",
        "import pandas as pd\n",
        "import seaborn as sns\n",
        "import sklearn as sk\n",
        "from PIL import Image\n",
        "from matplotlib import image"
      ],
      "execution_count": 2,
      "outputs": [
        {
          "output_type": "stream",
          "text": [
            "/usr/local/lib/python3.6/dist-packages/statsmodels/tools/_testing.py:19: FutureWarning: pandas.util.testing is deprecated. Use the functions in the public API at pandas.testing instead.\n",
            "  import pandas.util.testing as tm\n"
          ],
          "name": "stderr"
        }
      ]
    },
    {
      "cell_type": "code",
      "metadata": {
        "id": "fhg9P35jpY1H",
        "colab_type": "code",
        "colab": {}
      },
      "source": [
        "train=pd.read_csv('Train.csv')\n",
        "test=pd.read_csv('Test.csv')\n",
        "valid=pd.read_csv('Meta.csv')"
      ],
      "execution_count": 0,
      "outputs": []
    },
    {
      "cell_type": "code",
      "metadata": {
        "id": "7J6E4q5QpYyz",
        "colab_type": "code",
        "colab": {}
      },
      "source": [
        "x_train=[]\n",
        "y_train=[]\n",
        "for i in range(len(train)):\n",
        "  x_train.append(np.array(Image.open(train['Path'][i]).resize((28,28),Image.NEAREST)))\n",
        "  y_train.append(train['ClassId'][i])"
      ],
      "execution_count": 0,
      "outputs": []
    },
    {
      "cell_type": "code",
      "metadata": {
        "id": "9AsbJbLwpYwD",
        "colab_type": "code",
        "colab": {}
      },
      "source": [
        "x_test=[]\n",
        "y_test=[]\n",
        "for i in range(len(test)):\n",
        "  x_test.append(np.array(Image.open(test['Path'][i]).resize((28,28),Image.NEAREST)))\n",
        "  y_test.append(test['ClassId'][i])"
      ],
      "execution_count": 0,
      "outputs": []
    },
    {
      "cell_type": "code",
      "metadata": {
        "id": "SF3V_8zOpYtI",
        "colab_type": "code",
        "outputId": "071a2768-23a5-4355-ecd9-1c776a6c2c51",
        "colab": {
          "base_uri": "https://localhost:8080/",
          "height": 840
        }
      },
      "source": [
        "x_validate=[]\n",
        "y_validate=[]\n",
        "for i in range(len(valid)):\n",
        "  x_validate.append(np.array(Image.open(valid['Path'][i]).resize((28,28),Image.NEAREST)))\n",
        "  y_validate.append(valid['ClassId'][i])\n",
        "x_validate[1]"
      ],
      "execution_count": 6,
      "outputs": [
        {
          "output_type": "execute_result",
          "data": {
            "text/plain": [
              "array([[[0, 0, 0, 0],\n",
              "        [0, 0, 0, 0],\n",
              "        [0, 0, 0, 0],\n",
              "        ...,\n",
              "        [0, 0, 0, 0],\n",
              "        [0, 0, 0, 0],\n",
              "        [0, 0, 0, 0]],\n",
              "\n",
              "       [[0, 0, 0, 0],\n",
              "        [0, 0, 0, 0],\n",
              "        [0, 0, 0, 0],\n",
              "        ...,\n",
              "        [0, 0, 0, 0],\n",
              "        [0, 0, 0, 0],\n",
              "        [0, 0, 0, 0]],\n",
              "\n",
              "       [[0, 0, 0, 0],\n",
              "        [0, 0, 0, 0],\n",
              "        [0, 0, 0, 0],\n",
              "        ...,\n",
              "        [0, 0, 0, 0],\n",
              "        [0, 0, 0, 0],\n",
              "        [0, 0, 0, 0]],\n",
              "\n",
              "       ...,\n",
              "\n",
              "       [[0, 0, 0, 0],\n",
              "        [0, 0, 0, 0],\n",
              "        [0, 0, 0, 0],\n",
              "        ...,\n",
              "        [0, 0, 0, 0],\n",
              "        [0, 0, 0, 0],\n",
              "        [0, 0, 0, 0]],\n",
              "\n",
              "       [[0, 0, 0, 0],\n",
              "        [0, 0, 0, 0],\n",
              "        [0, 0, 0, 0],\n",
              "        ...,\n",
              "        [0, 0, 0, 0],\n",
              "        [0, 0, 0, 0],\n",
              "        [0, 0, 0, 0]],\n",
              "\n",
              "       [[0, 0, 0, 0],\n",
              "        [0, 0, 0, 0],\n",
              "        [0, 0, 0, 0],\n",
              "        ...,\n",
              "        [0, 0, 0, 0],\n",
              "        [0, 0, 0, 0],\n",
              "        [0, 0, 0, 0]]], dtype=uint8)"
            ]
          },
          "metadata": {
            "tags": []
          },
          "execution_count": 6
        }
      ]
    },
    {
      "cell_type": "code",
      "metadata": {
        "id": "Y45kpb8jpYqB",
        "colab_type": "code",
        "outputId": "310bf14e-4043-4bef-a4fd-a13d5c3d5a10",
        "colab": {
          "base_uri": "https://localhost:8080/",
          "height": 282
        }
      },
      "source": [
        "import matplotlib.pyplot as plt\n",
        "plt.imshow(x_train[i])\n",
        "i = 2100\n",
        "y_train[i]"
      ],
      "execution_count": 7,
      "outputs": [
        {
          "output_type": "execute_result",
          "data": {
            "text/plain": [
              "1"
            ]
          },
          "metadata": {
            "tags": []
          },
          "execution_count": 7
        },
        {
          "output_type": "display_data",
          "data": {
            "image/png": "[encoded data removed]",
            "text/plain": [
              "<Figure size 432x288 with 1 Axes>"
            ]
          },
          "metadata": {
            "tags": [],
            "needs_background": "light"
          }
        }
      ]
    },
    {
      "cell_type": "code",
      "metadata": {
        "id": "KCaY-qqaqfyF",
        "colab_type": "code",
        "outputId": "8aebe65e-09be-4416-e6e8-291dca45cdb8",
        "colab": {
          "base_uri": "https://localhost:8080/",
          "height": 282
        }
      },
      "source": [
        "i = 200\n",
        "plt.imshow(x_test[i])\n",
        "y_test[i]"
      ],
      "execution_count": 8,
      "outputs": [
        {
          "output_type": "execute_result",
          "data": {
            "text/plain": [
              "17"
            ]
          },
          "metadata": {
            "tags": []
          },
          "execution_count": 8
        },
        {
          "output_type": "display_data",
          "data": {
            "image/png": "[encoded data removed]",
            "text/plain": [
              "<Figure size 432x288 with 1 Axes>"
            ]
          },
          "metadata": {
            "tags": [],
            "needs_background": "light"
          }
        }
      ]
    },
    {
      "cell_type": "code",
      "metadata": {
        "id": "qdHwWSvlqf8T",
        "colab_type": "code",
        "colab": {}
      },
      "source": [
        "from sklearn.utils import shuffle\n",
        "x_train, y_train = shuffle(x_train, y_train)"
      ],
      "execution_count": 0,
      "outputs": []
    },
    {
      "cell_type": "code",
      "metadata": {
        "id": "7SRtZlAHqf5u",
        "colab_type": "code",
        "colab": {}
      },
      "source": [
        "x_train_gray = np.sum(np.array(x_train)/3, axis = 3, keepdims = True)\n",
        "x_test_gray = np.sum(np.array(x_test)/3, axis = 3, keepdims = True)\n",
        "x_validate_gray = np.sum(np.array(x_validate)/3, axis = 3, keepdims = True)"
      ],
      "execution_count": 0,
      "outputs": []
    },
    {
      "cell_type": "code",
      "metadata": {
        "id": "MBTAC3IUqf1p",
        "colab_type": "code",
        "colab": {}
      },
      "source": [
        "\n",
        "x_train_gray_norm = (x_train_gray - 128)/128\n",
        "x_test_gray_norm = (x_test_gray - 128)/128\n",
        "x_validate_gray_norm = (x_validate_gray - 128)/128"
      ],
      "execution_count": 0,
      "outputs": []
    },
    {
      "cell_type": "code",
      "metadata": {
        "id": "KhOFoZa0qfu3",
        "colab_type": "code",
        "outputId": "e1e857ad-aa77-456f-ece2-523f22761022",
        "colab": {
          "base_uri": "https://localhost:8080/",
          "height": 778
        }
      },
      "source": [
        "\n",
        "i = 220\n",
        "plt.imshow(x_train_gray[i].squeeze(), cmap = 'gray')\n",
        "plt.figure()\n",
        "plt.imshow(x_train[i])\n",
        "plt.figure()\n",
        "plt.imshow(x_train_gray_norm[i].squeeze(), cmap = 'gray')"
      ],
      "execution_count": 12,
      "outputs": [
        {
          "output_type": "execute_result",
          "data": {
            "text/plain": [
              "<matplotlib.image.AxesImage at 0x7fbea3ce0eb8>"
            ]
          },
          "metadata": {
            "tags": []
          },
          "execution_count": 12
        },
        {
          "output_type": "display_data",
          "data": {
            "image/png": "[encoded data removed]",
            "text/plain": [
              "<Figure size 432x288 with 1 Axes>"
            ]
          },
          "metadata": {
            "tags": [],
            "needs_background": "light"
          }
        },
        {
          "output_type": "display_data",
          "data": {
            "image/png": "[encoded data removed]",
            "text/plain": [
              "<Figure size 432x288 with 1 Axes>"
            ]
          },
          "metadata": {
            "tags": [],
            "needs_background": "light"
          }
        },
        {
          "output_type": "display_data",
          "data": {
            "image/png": "[encoded data removed]",
            "text/plain": [
              "<Figure size 432x288 with 1 Axes>"
            ]
          },
          "metadata": {
            "tags": [],
            "needs_background": "light"
          }
        }
      ]
    },
    {
      "cell_type": "code",
      "metadata": {
        "id": "TWieAD27v-EN",
        "colab_type": "code",
        "outputId": "17a894c5-bb25-45bf-dae5-87f81ec03e8d",
        "colab": {
          "base_uri": "https://localhost:8080/",
          "height": 34
        }
      },
      "source": [
        "x_train_gray_norm.shape"
      ],
      "execution_count": 13,
      "outputs": [
        {
          "output_type": "execute_result",
          "data": {
            "text/plain": [
              "(39209, 28, 28, 1)"
            ]
          },
          "metadata": {
            "tags": []
          },
          "execution_count": 13
        }
      ]
    },
    {
      "cell_type": "code",
      "metadata": {
        "id": "3-2xviD65ODw",
        "colab_type": "code",
        "colab": {}
      },
      "source": [
        "from keras.layers import AveragePooling2D,Dropout"
      ],
      "execution_count": 0,
      "outputs": []
    },
    {
      "cell_type": "code",
      "metadata": {
        "id": "jetpfGJvg1Bz",
        "colab_type": "code",
        "colab": {}
      },
      "source": [
        "model = models.Sequential()\n",
        "\n",
        "model.add(Conv2D(10,(13,11), activation=\"relu\",use_bias=True,input_shape=(28,28,1),kernel_initializer=\"lecun_uniform\"))\n",
        "model.add(Conv2D(20,(11,5), activation=\"relu\",use_bias=False,kernel_initializer=\"lecun_uniform\"))\n",
        "model.add(Flatten()) \n",
        "model.add(Dense(350, activation ='relu'))\n",
        "model.add(Dropout(0.5))\n",
        "model.add(Dense(43, activation ='softplus',kernel_initializer=\"he_normal\"))\n",
        "  \n",
        "# training the model \n",
        "\n",
        "\n",
        "\n",
        "\n",
        "\n"
      ],
      "execution_count": 0,
      "outputs": []
    },
    {
      "cell_type": "code",
      "metadata": {
        "id": "pO6CUrdCiQ5n",
        "colab_type": "code",
        "colab": {}
      },
      "source": [
        "model.compile(loss=\"sparse_categorical_crossentropy\", optimizer =\"adam\", metrics=['accuracy'])"
      ],
      "execution_count": 0,
      "outputs": []
    },
    {
      "cell_type": "code",
      "metadata": {
        "id": "x7Hed8E3nFVl",
        "colab_type": "code",
        "outputId": "e19726bc-037d-4fff-a609-583238d7daaf",
        "colab": {
          "base_uri": "https://localhost:8080/",
          "height": 1000
        }
      },
      "source": [
        "model.fit(x_train_gray_norm, np.array(y_train),\n",
        "          batch_size=256,\n",
        "          epochs=30,\n",
        "          verbose=1,\n",
        "          validation_data=(x_validate_gray_norm,np.array(y_validate)))"
      ],
      "execution_count": 52,
      "outputs": [
        {
          "output_type": "stream",
          "text": [
            "Train on 39209 samples, validate on 43 samples\n",
            "Epoch 1/30\n",
            "39209/39209 [==============================] - 1s 21us/step - loss: 0.0155 - accuracy: 0.9954 - val_loss: 3.0476 - val_accuracy: 0.3953\n",
            "Epoch 2/30\n",
            "39209/39209 [==============================] - 1s 20us/step - loss: 0.0187 - accuracy: 0.9946 - val_loss: 3.0585 - val_accuracy: 0.3953\n",
            "Epoch 3/30\n",
            "39209/39209 [==============================] - 1s 20us/step - loss: 0.0169 - accuracy: 0.9951 - val_loss: 3.7823 - val_accuracy: 0.3721\n",
            "Epoch 4/30\n",
            "39209/39209 [==============================] - 1s 20us/step - loss: 0.0204 - accuracy: 0.9942 - val_loss: 3.8041 - val_accuracy: 0.3256\n",
            "Epoch 5/30\n",
            "39209/39209 [==============================] - 1s 20us/step - loss: 0.0197 - accuracy: 0.9943 - val_loss: 4.3253 - val_accuracy: 0.3256\n",
            "Epoch 6/30\n",
            "39209/39209 [==============================] - 1s 20us/step - loss: 0.0164 - accuracy: 0.9954 - val_loss: 3.9211 - val_accuracy: 0.3953\n",
            "Epoch 7/30\n",
            "39209/39209 [==============================] - 1s 20us/step - loss: 0.0168 - accuracy: 0.9950 - val_loss: 3.3100 - val_accuracy: 0.3721\n",
            "Epoch 8/30\n",
            "39209/39209 [==============================] - 1s 20us/step - loss: 0.0151 - accuracy: 0.9957 - val_loss: 3.3184 - val_accuracy: 0.3721\n",
            "Epoch 9/30\n",
            "39209/39209 [==============================] - 1s 20us/step - loss: 0.0119 - accuracy: 0.9968 - val_loss: 3.7358 - val_accuracy: 0.3256\n",
            "Epoch 10/30\n",
            "39209/39209 [==============================] - 1s 21us/step - loss: 0.0165 - accuracy: 0.9958 - val_loss: 4.1185 - val_accuracy: 0.3256\n",
            "Epoch 11/30\n",
            "39209/39209 [==============================] - 1s 20us/step - loss: 0.0153 - accuracy: 0.9957 - val_loss: 4.0370 - val_accuracy: 0.3721\n",
            "Epoch 12/30\n",
            "39209/39209 [==============================] - 1s 21us/step - loss: 0.0166 - accuracy: 0.9952 - val_loss: 3.6025 - val_accuracy: 0.3488\n",
            "Epoch 13/30\n",
            "39209/39209 [==============================] - 1s 20us/step - loss: 0.0174 - accuracy: 0.9951 - val_loss: 3.4513 - val_accuracy: 0.4186\n",
            "Epoch 14/30\n",
            "39209/39209 [==============================] - 1s 21us/step - loss: 0.0159 - accuracy: 0.9957 - val_loss: 3.6982 - val_accuracy: 0.3488\n",
            "Epoch 15/30\n",
            "39209/39209 [==============================] - 1s 20us/step - loss: 0.0173 - accuracy: 0.9950 - val_loss: 3.5578 - val_accuracy: 0.3256\n",
            "Epoch 16/30\n",
            "39209/39209 [==============================] - 1s 20us/step - loss: 0.0156 - accuracy: 0.9955 - val_loss: 3.7320 - val_accuracy: 0.3488\n",
            "Epoch 17/30\n",
            "39209/39209 [==============================] - 1s 20us/step - loss: 0.0167 - accuracy: 0.9955 - val_loss: 3.8685 - val_accuracy: 0.3488\n",
            "Epoch 18/30\n",
            "39209/39209 [==============================] - 1s 20us/step - loss: 0.0118 - accuracy: 0.9966 - val_loss: 3.7019 - val_accuracy: 0.3488\n",
            "Epoch 19/30\n",
            "39209/39209 [==============================] - 1s 20us/step - loss: 0.0153 - accuracy: 0.9958 - val_loss: 4.1300 - val_accuracy: 0.3488\n",
            "Epoch 20/30\n",
            "39209/39209 [==============================] - 1s 21us/step - loss: 0.0174 - accuracy: 0.9952 - val_loss: 3.9335 - val_accuracy: 0.3721\n",
            "Epoch 21/30\n",
            "39209/39209 [==============================] - 1s 20us/step - loss: 0.0151 - accuracy: 0.9959 - val_loss: 3.9047 - val_accuracy: 0.3953\n",
            "Epoch 22/30\n",
            "39209/39209 [==============================] - 1s 20us/step - loss: 0.0154 - accuracy: 0.9952 - val_loss: 3.8857 - val_accuracy: 0.3721\n",
            "Epoch 23/30\n",
            "39209/39209 [==============================] - 1s 20us/step - loss: 0.0135 - accuracy: 0.9961 - val_loss: 4.4450 - val_accuracy: 0.3488\n",
            "Epoch 24/30\n",
            "39209/39209 [==============================] - 1s 20us/step - loss: 0.0198 - accuracy: 0.9942 - val_loss: 3.6818 - val_accuracy: 0.3488\n",
            "Epoch 25/30\n",
            "39209/39209 [==============================] - 1s 20us/step - loss: 0.0139 - accuracy: 0.9963 - val_loss: 3.9213 - val_accuracy: 0.3721\n",
            "Epoch 26/30\n",
            "39209/39209 [==============================] - 1s 20us/step - loss: 0.0097 - accuracy: 0.9973 - val_loss: 3.6222 - val_accuracy: 0.3721\n",
            "Epoch 27/30\n",
            "39209/39209 [==============================] - 1s 20us/step - loss: 0.0156 - accuracy: 0.9956 - val_loss: 4.1185 - val_accuracy: 0.3256\n",
            "Epoch 28/30\n",
            "39209/39209 [==============================] - 1s 20us/step - loss: 0.0141 - accuracy: 0.9962 - val_loss: 3.9937 - val_accuracy: 0.3721\n",
            "Epoch 29/30\n",
            "39209/39209 [==============================] - 1s 20us/step - loss: 0.0137 - accuracy: 0.9963 - val_loss: 3.6941 - val_accuracy: 0.3953\n",
            "Epoch 30/30\n",
            "39209/39209 [==============================] - 1s 20us/step - loss: 0.0149 - accuracy: 0.9961 - val_loss: 3.2777 - val_accuracy: 0.3953\n"
          ],
          "name": "stdout"
        },
        {
          "output_type": "execute_result",
          "data": {
            "text/plain": [
              "<keras.callbacks.callbacks.History at 0x7fbe3166ccc0>"
            ]
          },
          "metadata": {
            "tags": []
          },
          "execution_count": 52
        }
      ]
    },
    {
      "cell_type": "code",
      "metadata": {
        "id": "dr9ndCActnUN",
        "colab_type": "code",
        "colab": {}
      },
      "source": [
        "pred= model.predict(x_test_gray_norm)"
      ],
      "execution_count": 0,
      "outputs": []
    },
    {
      "cell_type": "code",
      "metadata": {
        "id": "iZmAJXALrLUZ",
        "colab_type": "code",
        "colab": {
          "base_uri": "https://localhost:8080/",
          "height": 50
        },
        "outputId": "382c1891-9ca9-4667-84d9-55d1136709d1"
      },
      "source": [
        "score=model.evaluate(x_test_gray_norm,np.array(y_test))\n",
        "print(f\"Accuracy : {score[1]}\")"
      ],
      "execution_count": 54,
      "outputs": [
        {
          "output_type": "stream",
          "text": [
            "12630/12630 [==============================] - 1s 53us/step\n",
            "Accuracy : 0.9240697026252747\n"
          ],
          "name": "stdout"
        }
      ]
    },
    {
      "cell_type": "code",
      "metadata": {
        "id": "8ZVN1rEcrYNs",
        "colab_type": "code",
        "colab": {}
      },
      "source": [
        ""
      ],
      "execution_count": 0,
      "outputs": []
    }
  ]
}